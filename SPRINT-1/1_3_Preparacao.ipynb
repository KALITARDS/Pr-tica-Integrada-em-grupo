{
  "nbformat": 4,
  "nbformat_minor": 0,
  "metadata": {
    "colab": {
      "name": "1.3 - Preparacao.ipynb",
      "provenance": [],
      "collapsed_sections": []
    },
    "kernelspec": {
      "name": "python3",
      "display_name": "Python 3"
    },
    "language_info": {
      "name": "python"
    }
  },
  "cells": [
    {
      "cell_type": "markdown",
      "source": [
        "**Pratica Integrada 2° semestre de 2021**"
      ],
      "metadata": {
        "id": "97g9belJlECN"
      }
    },
    {
      "cell_type": "markdown",
      "source": [
        "**Alunos:**\n",
        " - Pedro Henrique Fernandes de Santana\n",
        " - Nikolle de Lacerda Nascimento\n",
        " - Lucas Nascimento\n",
        " - Kalita Rodrigues"
      ],
      "metadata": {
        "id": "1yJnUrZolA8J"
      }
    },
    {
      "cell_type": "markdown",
      "source": [
        "**Nesta terceira etapa, realizaremos pequenas alterações visando facilitar o trabalho de análise, que será a última etapa.**\n",
        "\n",
        "- Eliminar observações do tipo MODEL;\n",
        "- Eliminar a variável contendo nome do arquivo;\n",
        "- Acrescentar nova variável representando a média das coordenadas;\n",
        "  - Ou seja, obter, para cada instante a média das três coordenadas (X,Y,Z), ao final você deverá ter um vetor de médias ao longo do tempo.\n",
        "- Veja o grau de correlação da nova variável que criamos em relação às demais coordenadas."
      ],
      "metadata": {
        "id": "HC_xhLQ1y6Jw"
      }
    },
    {
      "cell_type": "code",
      "source": [
        "import pandas as pd\n",
        "import numpy as np"
      ],
      "metadata": {
        "id": "m9K3Dk_kqpRj"
      },
      "execution_count": 1,
      "outputs": []
    },
    {
      "cell_type": "code",
      "source": [
        "df = pd.read_csv('dados_coletados.csv')"
      ],
      "metadata": {
        "id": "KKAGF7Sqqr72"
      },
      "execution_count": 2,
      "outputs": []
    },
    {
      "cell_type": "markdown",
      "source": [
        "### 1 - Eliminar observações do tipo MODEL;"
      ],
      "metadata": {
        "id": "dj-2yvdK1np0"
      }
    },
    {
      "cell_type": "markdown",
      "source": [
        "As observações do tipo Model foram filtradas na coleta de dados\n",
        "\n",
        "---\n",
        "\n"
      ],
      "metadata": {
        "id": "p3n5ZoaP67Jp"
      }
    },
    {
      "cell_type": "markdown",
      "source": [
        "### 2 - Eliminar a variável contendo nome do arquivo;"
      ],
      "metadata": {
        "id": "_UuuFq0z1ro8"
      }
    },
    {
      "cell_type": "code",
      "source": [
        "#del nome_arquivos"
      ],
      "metadata": {
        "id": "24oCXu5znAAW"
      },
      "execution_count": 3,
      "outputs": []
    },
    {
      "cell_type": "markdown",
      "source": [
        "### 3 - Acrescentar nova variável representando a média das coordenadas"
      ],
      "metadata": {
        "id": "gDo1_InI1vHA"
      }
    },
    {
      "cell_type": "code",
      "source": [
        "#Criação da coluna Media\n",
        "\n",
        "df['Media'] = 0"
      ],
      "metadata": {
        "id": "DSxZ4uIuDoTS"
      },
      "execution_count": 4,
      "outputs": []
    },
    {
      "cell_type": "code",
      "source": [
        "#Atribuindo a média pra coluna média\n",
        "for i in range(len(df)):\n",
        "  df['Media'][i] = (df['X'][i] + df['Y'][i] + df['Z'][i])/3 "
      ],
      "metadata": {
        "colab": {
          "base_uri": "https://localhost:8080/"
        },
        "id": "Qq152vs2H_n9",
        "outputId": "e969a70e-b294-4f25-ac8f-d927a3765683"
      },
      "execution_count": 5,
      "outputs": [
        {
          "output_type": "stream",
          "name": "stderr",
          "text": [
            "/usr/local/lib/python3.7/dist-packages/ipykernel_launcher.py:3: SettingWithCopyWarning: \n",
            "A value is trying to be set on a copy of a slice from a DataFrame\n",
            "\n",
            "See the caveats in the documentation: https://pandas.pydata.org/pandas-docs/stable/user_guide/indexing.html#returning-a-view-versus-a-copy\n",
            "  This is separate from the ipykernel package so we can avoid doing imports until\n"
          ]
        }
      ]
    },
    {
      "cell_type": "markdown",
      "source": [
        "### 4 - Veja o grau de correlação da nova variável que criamos em relação às demais coordenadas."
      ],
      "metadata": {
        "id": "vqvG-Vbe13uz"
      }
    },
    {
      "cell_type": "code",
      "execution_count": 6,
      "metadata": {
        "id": "0cRUEQF4xAFb",
        "colab": {
          "base_uri": "https://localhost:8080/"
        },
        "outputId": "5488b45e-d3c0-4d42-f4c1-347304ee9c5f"
      },
      "outputs": [
        {
          "output_type": "stream",
          "name": "stdout",
          "text": [
            "A correlação entre Media e X é muito forte: 0.8774749188301344\n",
            "A correlação entre Media e Y é fraca: 0.3046541201657668\n",
            "A correlação entre Media e Z é forte: 0.7458420203807167\n"
          ]
        }
      ],
      "source": [
        "m = pd.Series(df['Media'])\n",
        "\n",
        "x = pd.Series(df['X'])\n",
        "\n",
        "y = pd.Series(df['Y'])\n",
        "\n",
        "z = pd.Series(df['Z'])\n",
        "\n",
        "\n",
        "print('A correlação entre Media e X é muito forte:', m.astype('float64').corr(x.astype('float64')))\n",
        "print('A correlação entre Media e Y é fraca:', m.astype('float64').corr(y.astype('float64')))\n",
        "print('A correlação entre Media e Z é forte:', m.astype('float64').corr(z.astype('float64')))"
      ]
    },
    {
      "cell_type": "markdown",
      "source": [
        "### 5 - Salvar o dataframe em um arquivo csv com o nome 'dados_preparados.csv'"
      ],
      "metadata": {
        "id": "KlsSYxScSMH5"
      }
    },
    {
      "cell_type": "code",
      "source": [
        "df.to_csv('dados_preparados.csv', encoding='utf-8', index=False)"
      ],
      "metadata": {
        "id": "Nq-ZTa0ISr7V"
      },
      "execution_count": 7,
      "outputs": []
    },
    {
      "cell_type": "code",
      "source": [
        "df"
      ],
      "metadata": {
        "colab": {
          "base_uri": "https://localhost:8080/",
          "height": 487
        },
        "id": "QdGxH24JQZbW",
        "outputId": "8e350555-6a21-48d9-8937-94cb86ea0946"
      },
      "execution_count": 8,
      "outputs": [
        {
          "output_type": "execute_result",
          "data": {
            "text/html": [
              "\n",
              "  <div id=\"df-891bf38b-ad90-4bf8-b89d-08759f85670b\">\n",
              "    <div class=\"colab-df-container\">\n",
              "      <div>\n",
              "<style scoped>\n",
              "    .dataframe tbody tr th:only-of-type {\n",
              "        vertical-align: middle;\n",
              "    }\n",
              "\n",
              "    .dataframe tbody tr th {\n",
              "        vertical-align: top;\n",
              "    }\n",
              "\n",
              "    .dataframe thead th {\n",
              "        text-align: right;\n",
              "    }\n",
              "</style>\n",
              "<table border=\"1\" class=\"dataframe\">\n",
              "  <thead>\n",
              "    <tr style=\"text-align: right;\">\n",
              "      <th></th>\n",
              "      <th>X</th>\n",
              "      <th>Y</th>\n",
              "      <th>Z</th>\n",
              "      <th>Ano</th>\n",
              "      <th>Mes</th>\n",
              "      <th>Dia</th>\n",
              "      <th>Horas</th>\n",
              "      <th>Minutos</th>\n",
              "      <th>Segundos</th>\n",
              "      <th>Tipo_movimento</th>\n",
              "      <th>Genero</th>\n",
              "      <th>Num_voluntario</th>\n",
              "      <th>Media</th>\n",
              "    </tr>\n",
              "  </thead>\n",
              "  <tbody>\n",
              "    <tr>\n",
              "      <th>0</th>\n",
              "      <td>39</td>\n",
              "      <td>57</td>\n",
              "      <td>42</td>\n",
              "      <td>2011</td>\n",
              "      <td>5</td>\n",
              "      <td>30</td>\n",
              "      <td>21</td>\n",
              "      <td>55</td>\n",
              "      <td>4</td>\n",
              "      <td>brush_teeth</td>\n",
              "      <td>m</td>\n",
              "      <td>2</td>\n",
              "      <td>46</td>\n",
              "    </tr>\n",
              "    <tr>\n",
              "      <th>1</th>\n",
              "      <td>37</td>\n",
              "      <td>33</td>\n",
              "      <td>32</td>\n",
              "      <td>2011</td>\n",
              "      <td>5</td>\n",
              "      <td>30</td>\n",
              "      <td>21</td>\n",
              "      <td>55</td>\n",
              "      <td>4</td>\n",
              "      <td>brush_teeth</td>\n",
              "      <td>m</td>\n",
              "      <td>2</td>\n",
              "      <td>34</td>\n",
              "    </tr>\n",
              "    <tr>\n",
              "      <th>2</th>\n",
              "      <td>40</td>\n",
              "      <td>59</td>\n",
              "      <td>39</td>\n",
              "      <td>2011</td>\n",
              "      <td>5</td>\n",
              "      <td>30</td>\n",
              "      <td>21</td>\n",
              "      <td>55</td>\n",
              "      <td>4</td>\n",
              "      <td>brush_teeth</td>\n",
              "      <td>m</td>\n",
              "      <td>2</td>\n",
              "      <td>46</td>\n",
              "    </tr>\n",
              "    <tr>\n",
              "      <th>3</th>\n",
              "      <td>40</td>\n",
              "      <td>59</td>\n",
              "      <td>39</td>\n",
              "      <td>2011</td>\n",
              "      <td>5</td>\n",
              "      <td>30</td>\n",
              "      <td>21</td>\n",
              "      <td>55</td>\n",
              "      <td>4</td>\n",
              "      <td>brush_teeth</td>\n",
              "      <td>m</td>\n",
              "      <td>2</td>\n",
              "      <td>46</td>\n",
              "    </tr>\n",
              "    <tr>\n",
              "      <th>4</th>\n",
              "      <td>40</td>\n",
              "      <td>57</td>\n",
              "      <td>35</td>\n",
              "      <td>2011</td>\n",
              "      <td>5</td>\n",
              "      <td>30</td>\n",
              "      <td>21</td>\n",
              "      <td>55</td>\n",
              "      <td>4</td>\n",
              "      <td>brush_teeth</td>\n",
              "      <td>m</td>\n",
              "      <td>2</td>\n",
              "      <td>44</td>\n",
              "    </tr>\n",
              "    <tr>\n",
              "      <th>...</th>\n",
              "      <td>...</td>\n",
              "      <td>...</td>\n",
              "      <td>...</td>\n",
              "      <td>...</td>\n",
              "      <td>...</td>\n",
              "      <td>...</td>\n",
              "      <td>...</td>\n",
              "      <td>...</td>\n",
              "      <td>...</td>\n",
              "      <td>...</td>\n",
              "      <td>...</td>\n",
              "      <td>...</td>\n",
              "      <td>...</td>\n",
              "    </tr>\n",
              "    <tr>\n",
              "      <th>446524</th>\n",
              "      <td>17</td>\n",
              "      <td>32</td>\n",
              "      <td>37</td>\n",
              "      <td>2012</td>\n",
              "      <td>6</td>\n",
              "      <td>6</td>\n",
              "      <td>9</td>\n",
              "      <td>10</td>\n",
              "      <td>2</td>\n",
              "      <td>walk</td>\n",
              "      <td>m</td>\n",
              "      <td>5</td>\n",
              "      <td>28</td>\n",
              "    </tr>\n",
              "    <tr>\n",
              "      <th>446525</th>\n",
              "      <td>16</td>\n",
              "      <td>33</td>\n",
              "      <td>32</td>\n",
              "      <td>2012</td>\n",
              "      <td>6</td>\n",
              "      <td>6</td>\n",
              "      <td>9</td>\n",
              "      <td>10</td>\n",
              "      <td>2</td>\n",
              "      <td>walk</td>\n",
              "      <td>m</td>\n",
              "      <td>5</td>\n",
              "      <td>27</td>\n",
              "    </tr>\n",
              "    <tr>\n",
              "      <th>446526</th>\n",
              "      <td>12</td>\n",
              "      <td>34</td>\n",
              "      <td>36</td>\n",
              "      <td>2012</td>\n",
              "      <td>6</td>\n",
              "      <td>6</td>\n",
              "      <td>9</td>\n",
              "      <td>10</td>\n",
              "      <td>2</td>\n",
              "      <td>walk</td>\n",
              "      <td>m</td>\n",
              "      <td>5</td>\n",
              "      <td>27</td>\n",
              "    </tr>\n",
              "    <tr>\n",
              "      <th>446527</th>\n",
              "      <td>12</td>\n",
              "      <td>35</td>\n",
              "      <td>37</td>\n",
              "      <td>2012</td>\n",
              "      <td>6</td>\n",
              "      <td>6</td>\n",
              "      <td>9</td>\n",
              "      <td>10</td>\n",
              "      <td>2</td>\n",
              "      <td>walk</td>\n",
              "      <td>m</td>\n",
              "      <td>5</td>\n",
              "      <td>28</td>\n",
              "    </tr>\n",
              "    <tr>\n",
              "      <th>446528</th>\n",
              "      <td>15</td>\n",
              "      <td>36</td>\n",
              "      <td>37</td>\n",
              "      <td>2012</td>\n",
              "      <td>6</td>\n",
              "      <td>6</td>\n",
              "      <td>9</td>\n",
              "      <td>10</td>\n",
              "      <td>2</td>\n",
              "      <td>walk</td>\n",
              "      <td>m</td>\n",
              "      <td>5</td>\n",
              "      <td>29</td>\n",
              "    </tr>\n",
              "  </tbody>\n",
              "</table>\n",
              "<p>446529 rows × 13 columns</p>\n",
              "</div>\n",
              "      <button class=\"colab-df-convert\" onclick=\"convertToInteractive('df-891bf38b-ad90-4bf8-b89d-08759f85670b')\"\n",
              "              title=\"Convert this dataframe to an interactive table.\"\n",
              "              style=\"display:none;\">\n",
              "        \n",
              "  <svg xmlns=\"http://www.w3.org/2000/svg\" height=\"24px\"viewBox=\"0 0 24 24\"\n",
              "       width=\"24px\">\n",
              "    <path d=\"M0 0h24v24H0V0z\" fill=\"none\"/>\n",
              "    <path d=\"M18.56 5.44l.94 2.06.94-2.06 2.06-.94-2.06-.94-.94-2.06-.94 2.06-2.06.94zm-11 1L8.5 8.5l.94-2.06 2.06-.94-2.06-.94L8.5 2.5l-.94 2.06-2.06.94zm10 10l.94 2.06.94-2.06 2.06-.94-2.06-.94-.94-2.06-.94 2.06-2.06.94z\"/><path d=\"M17.41 7.96l-1.37-1.37c-.4-.4-.92-.59-1.43-.59-.52 0-1.04.2-1.43.59L10.3 9.45l-7.72 7.72c-.78.78-.78 2.05 0 2.83L4 21.41c.39.39.9.59 1.41.59.51 0 1.02-.2 1.41-.59l7.78-7.78 2.81-2.81c.8-.78.8-2.07 0-2.86zM5.41 20L4 18.59l7.72-7.72 1.47 1.35L5.41 20z\"/>\n",
              "  </svg>\n",
              "      </button>\n",
              "      \n",
              "  <style>\n",
              "    .colab-df-container {\n",
              "      display:flex;\n",
              "      flex-wrap:wrap;\n",
              "      gap: 12px;\n",
              "    }\n",
              "\n",
              "    .colab-df-convert {\n",
              "      background-color: #E8F0FE;\n",
              "      border: none;\n",
              "      border-radius: 50%;\n",
              "      cursor: pointer;\n",
              "      display: none;\n",
              "      fill: #1967D2;\n",
              "      height: 32px;\n",
              "      padding: 0 0 0 0;\n",
              "      width: 32px;\n",
              "    }\n",
              "\n",
              "    .colab-df-convert:hover {\n",
              "      background-color: #E2EBFA;\n",
              "      box-shadow: 0px 1px 2px rgba(60, 64, 67, 0.3), 0px 1px 3px 1px rgba(60, 64, 67, 0.15);\n",
              "      fill: #174EA6;\n",
              "    }\n",
              "\n",
              "    [theme=dark] .colab-df-convert {\n",
              "      background-color: #3B4455;\n",
              "      fill: #D2E3FC;\n",
              "    }\n",
              "\n",
              "    [theme=dark] .colab-df-convert:hover {\n",
              "      background-color: #434B5C;\n",
              "      box-shadow: 0px 1px 3px 1px rgba(0, 0, 0, 0.15);\n",
              "      filter: drop-shadow(0px 1px 2px rgba(0, 0, 0, 0.3));\n",
              "      fill: #FFFFFF;\n",
              "    }\n",
              "  </style>\n",
              "\n",
              "      <script>\n",
              "        const buttonEl =\n",
              "          document.querySelector('#df-891bf38b-ad90-4bf8-b89d-08759f85670b button.colab-df-convert');\n",
              "        buttonEl.style.display =\n",
              "          google.colab.kernel.accessAllowed ? 'block' : 'none';\n",
              "\n",
              "        async function convertToInteractive(key) {\n",
              "          const element = document.querySelector('#df-891bf38b-ad90-4bf8-b89d-08759f85670b');\n",
              "          const dataTable =\n",
              "            await google.colab.kernel.invokeFunction('convertToInteractive',\n",
              "                                                     [key], {});\n",
              "          if (!dataTable) return;\n",
              "\n",
              "          const docLinkHtml = 'Like what you see? Visit the ' +\n",
              "            '<a target=\"_blank\" href=https://colab.research.google.com/notebooks/data_table.ipynb>data table notebook</a>'\n",
              "            + ' to learn more about interactive tables.';\n",
              "          element.innerHTML = '';\n",
              "          dataTable['output_type'] = 'display_data';\n",
              "          await google.colab.output.renderOutput(dataTable, element);\n",
              "          const docLink = document.createElement('div');\n",
              "          docLink.innerHTML = docLinkHtml;\n",
              "          element.appendChild(docLink);\n",
              "        }\n",
              "      </script>\n",
              "    </div>\n",
              "  </div>\n",
              "  "
            ],
            "text/plain": [
              "         X   Y   Z   Ano  ...  Tipo_movimento  Genero  Num_voluntario  Media\n",
              "0       39  57  42  2011  ...     brush_teeth       m               2     46\n",
              "1       37  33  32  2011  ...     brush_teeth       m               2     34\n",
              "2       40  59  39  2011  ...     brush_teeth       m               2     46\n",
              "3       40  59  39  2011  ...     brush_teeth       m               2     46\n",
              "4       40  57  35  2011  ...     brush_teeth       m               2     44\n",
              "...     ..  ..  ..   ...  ...             ...     ...             ...    ...\n",
              "446524  17  32  37  2012  ...            walk       m               5     28\n",
              "446525  16  33  32  2012  ...            walk       m               5     27\n",
              "446526  12  34  36  2012  ...            walk       m               5     27\n",
              "446527  12  35  37  2012  ...            walk       m               5     28\n",
              "446528  15  36  37  2012  ...            walk       m               5     29\n",
              "\n",
              "[446529 rows x 13 columns]"
            ]
          },
          "metadata": {},
          "execution_count": 8
        }
      ]
    }
  ]
}