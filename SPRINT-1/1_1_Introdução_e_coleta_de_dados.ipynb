{
  "nbformat": 4,
  "nbformat_minor": 0,
  "metadata": {
    "colab": {
      "name": " 1.1 - Introdução e coleta de dados.ipynb",
      "provenance": [],
      "collapsed_sections": []
    },
    "kernelspec": {
      "name": "python3",
      "display_name": "Python 3"
    },
    "language_info": {
      "name": "python"
    }
  },
  "cells": [
    {
      "cell_type": "markdown",
      "source": [
        "**Alunos:**\n",
        " - Pedro Henrique Fernandes de Santana\n",
        " - Nikolle de Lacerda Nascimento\n",
        " - Lucas Nascimento\n",
        " - Kalita Rodrigues"
      ],
      "metadata": {
        "id": "lF1OzJkWn3iy"
      }
    },
    {
      "cell_type": "markdown",
      "source": [
        "**importar o pandas**\n"
      ],
      "metadata": {
        "id": "wr2j6RMeBAMg"
      }
    },
    {
      "cell_type": "code",
      "execution_count": null,
      "metadata": {
        "id": "7qZ4C2_TnKvF"
      },
      "outputs": [],
      "source": [
        "import pandas as pd"
      ]
    },
    {
      "cell_type": "markdown",
      "source": [
        "**Fazer uma lista com o nome das pastas dos movimentos**"
      ],
      "metadata": {
        "id": "j-jLRJVCBEII"
      }
    },
    {
      "cell_type": "code",
      "source": [
        "nome_movimentos = ['Brush_teeth','Climb_stairs','Comb_hair','Descend_stairs','Drink_glass','Eat_meat','Eat_soup','Getup_bed','Liedown_bed','Pour_water','Sitdown_chair','Standup_chair','Use_telephone','Walk',]"
      ],
      "metadata": {
        "id": "DYRQPVQgBYk1"
      },
      "execution_count": null,
      "outputs": []
    },
    {
      "cell_type": "code",
      "source": [
        "nome_movimentos = ['Brush_teeth','Climb_stairs']"
      ],
      "metadata": {
        "id": "VfHlvT0Vr1d7"
      },
      "execution_count": null,
      "outputs": []
    },
    {
      "cell_type": "markdown",
      "source": [
        "**1 - loop para iterar nas pastas**"
      ],
      "metadata": {
        "id": "RrFIcls6IUTr"
      }
    },
    {
      "cell_type": "markdown",
      "source": [
        "**2 - Puxar o nome dos arquivos dentro da pasta**"
      ],
      "metadata": {
        "id": "Dz07VOnmIPD2"
      }
    },
    {
      "cell_type": "markdown",
      "source": [
        "**3 - Importar os dados dos arquivos e amontoá-los  em um dataframe de nome 'df'**"
      ],
      "metadata": {
        "id": "aIYx8zyxBPyn"
      }
    },
    {
      "cell_type": "code",
      "source": [
        "import pandas as pd\n",
        "import os\n",
        "#Criando um dataFrame vazio pra adicionar os dados dos arquivos\n",
        "df_all = pd.DataFrame(columns=[\"X\",\"Y\",\"Z\",\"Ano\",\"Mes\",\"Dia\",\"Horas\",\"Minutos\",\"Segundos\",\"Tipo_movimento\",\"Genero\",\"Num_voluntario\"])\n",
        "\n",
        "#loop para iterar pelas pastas \n",
        "for y in range(len(nome_movimentos)):\n",
        "  directory = os.fsencode(f'dados/{nome_movimentos[y]}')\n",
        "  \n",
        "  #função pra iterar por cada arquivo de uma pasta e extrair o nome dos arquivos\n",
        "  def itera(directory):\n",
        "    \n",
        "    x=0\n",
        "    array=[]\n",
        "    for file in os.listdir(directory):\n",
        "        filename = os.fsdecode(file)\n",
        "        \n",
        "        x += 1\n",
        "\n",
        "        array.append(filename) \n",
        "\n",
        "    return array   \n",
        "  #retorna um  array com o nome dos arquivos de uma pasta\n",
        "  nome_arquivos = itera(directory)\n",
        "\n",
        "  #loop que itera sobre os arquivos \n",
        "  for i in range(len(nome_arquivos)):\n",
        "    split_nome_arquivos = nome_arquivos[i].split('-')\n",
        "    split_nome_arquivos\n",
        "\n",
        "    #Criação do dataframe com os dados de um arquivo e com todas as colunas necessárias  \n",
        "    df = pd.read_csv(f'dados/{nome_movimentos[y]}/{nome_arquivos[i]}', header=None, names=[\"X\",\"Y\",\"Z\",\"Ano\",\"Mes\",\"Dia\",\"Horas\",\"Minutos\",\"Segundos\",\"Tipo_movimento\",\"Genero\",\"Num_voluntario\"],sep=\" \")\n",
        "    df['Ano'] = split_nome_arquivos[1]\n",
        "    df['Mes'] = split_nome_arquivos[2]\n",
        "    df['Dia'] = split_nome_arquivos[3]\n",
        "    df['Horas'] = split_nome_arquivos[4]\n",
        "    df['Minutos'] = split_nome_arquivos[5]\n",
        "    df['Segundos'] = split_nome_arquivos[6]\n",
        "    df['Tipo_movimento'] = split_nome_arquivos[7]\n",
        "    df['Genero'] = split_nome_arquivos[8][0]\n",
        "    df['Num_voluntario'] = split_nome_arquivos[8][1]\n",
        "\n",
        "    #Junção do dataframe 'df_all' com o dataframe 'df'. \n",
        "    df_all = pd.merge(df_all, df, how = 'outer')\n",
        "\n",
        "    \n",
        "  del nome_arquivos\n"
      ],
      "metadata": {
        "id": "WH5K1IircDJS"
      },
      "execution_count": null,
      "outputs": []
    },
    {
      "cell_type": "code",
      "source": [
        "df_all"
      ],
      "metadata": {
        "colab": {
          "base_uri": "https://localhost:8080/",
          "height": 424
        },
        "id": "845KwUvwdfPv",
        "outputId": "240e3af3-9a89-4286-d1d5-49e7704e5af1"
      },
      "execution_count": null,
      "outputs": [
        {
          "output_type": "execute_result",
          "data": {
            "text/html": [
              "\n",
              "  <div id=\"df-a42a8dde-35ef-4952-9d60-d49e9136679b\">\n",
              "    <div class=\"colab-df-container\">\n",
              "      <div>\n",
              "<style scoped>\n",
              "    .dataframe tbody tr th:only-of-type {\n",
              "        vertical-align: middle;\n",
              "    }\n",
              "\n",
              "    .dataframe tbody tr th {\n",
              "        vertical-align: top;\n",
              "    }\n",
              "\n",
              "    .dataframe thead th {\n",
              "        text-align: right;\n",
              "    }\n",
              "</style>\n",
              "<table border=\"1\" class=\"dataframe\">\n",
              "  <thead>\n",
              "    <tr style=\"text-align: right;\">\n",
              "      <th></th>\n",
              "      <th>X</th>\n",
              "      <th>Y</th>\n",
              "      <th>Z</th>\n",
              "      <th>Ano</th>\n",
              "      <th>Mes</th>\n",
              "      <th>Dia</th>\n",
              "      <th>Horas</th>\n",
              "      <th>Minutos</th>\n",
              "      <th>Segundos</th>\n",
              "      <th>Tipo_movimento</th>\n",
              "      <th>Genero</th>\n",
              "      <th>Num_voluntario</th>\n",
              "    </tr>\n",
              "  </thead>\n",
              "  <tbody>\n",
              "    <tr>\n",
              "      <th>0</th>\n",
              "      <td>39</td>\n",
              "      <td>57</td>\n",
              "      <td>42</td>\n",
              "      <td>2011</td>\n",
              "      <td>05</td>\n",
              "      <td>30</td>\n",
              "      <td>21</td>\n",
              "      <td>55</td>\n",
              "      <td>04</td>\n",
              "      <td>brush_teeth</td>\n",
              "      <td>m</td>\n",
              "      <td>2</td>\n",
              "    </tr>\n",
              "    <tr>\n",
              "      <th>1</th>\n",
              "      <td>37</td>\n",
              "      <td>33</td>\n",
              "      <td>32</td>\n",
              "      <td>2011</td>\n",
              "      <td>05</td>\n",
              "      <td>30</td>\n",
              "      <td>21</td>\n",
              "      <td>55</td>\n",
              "      <td>04</td>\n",
              "      <td>brush_teeth</td>\n",
              "      <td>m</td>\n",
              "      <td>2</td>\n",
              "    </tr>\n",
              "    <tr>\n",
              "      <th>2</th>\n",
              "      <td>40</td>\n",
              "      <td>59</td>\n",
              "      <td>39</td>\n",
              "      <td>2011</td>\n",
              "      <td>05</td>\n",
              "      <td>30</td>\n",
              "      <td>21</td>\n",
              "      <td>55</td>\n",
              "      <td>04</td>\n",
              "      <td>brush_teeth</td>\n",
              "      <td>m</td>\n",
              "      <td>2</td>\n",
              "    </tr>\n",
              "    <tr>\n",
              "      <th>3</th>\n",
              "      <td>40</td>\n",
              "      <td>59</td>\n",
              "      <td>39</td>\n",
              "      <td>2011</td>\n",
              "      <td>05</td>\n",
              "      <td>30</td>\n",
              "      <td>21</td>\n",
              "      <td>55</td>\n",
              "      <td>04</td>\n",
              "      <td>brush_teeth</td>\n",
              "      <td>m</td>\n",
              "      <td>2</td>\n",
              "    </tr>\n",
              "    <tr>\n",
              "      <th>4</th>\n",
              "      <td>40</td>\n",
              "      <td>57</td>\n",
              "      <td>35</td>\n",
              "      <td>2011</td>\n",
              "      <td>05</td>\n",
              "      <td>30</td>\n",
              "      <td>21</td>\n",
              "      <td>55</td>\n",
              "      <td>04</td>\n",
              "      <td>brush_teeth</td>\n",
              "      <td>m</td>\n",
              "      <td>2</td>\n",
              "    </tr>\n",
              "    <tr>\n",
              "      <th>...</th>\n",
              "      <td>...</td>\n",
              "      <td>...</td>\n",
              "      <td>...</td>\n",
              "      <td>...</td>\n",
              "      <td>...</td>\n",
              "      <td>...</td>\n",
              "      <td>...</td>\n",
              "      <td>...</td>\n",
              "      <td>...</td>\n",
              "      <td>...</td>\n",
              "      <td>...</td>\n",
              "      <td>...</td>\n",
              "    </tr>\n",
              "    <tr>\n",
              "      <th>70082</th>\n",
              "      <td>18</td>\n",
              "      <td>44</td>\n",
              "      <td>38</td>\n",
              "      <td>2012</td>\n",
              "      <td>06</td>\n",
              "      <td>06</td>\n",
              "      <td>14</td>\n",
              "      <td>13</td>\n",
              "      <td>20</td>\n",
              "      <td>climb_stairs</td>\n",
              "      <td>m</td>\n",
              "      <td>7</td>\n",
              "    </tr>\n",
              "    <tr>\n",
              "      <th>70083</th>\n",
              "      <td>20</td>\n",
              "      <td>45</td>\n",
              "      <td>39</td>\n",
              "      <td>2012</td>\n",
              "      <td>06</td>\n",
              "      <td>06</td>\n",
              "      <td>14</td>\n",
              "      <td>13</td>\n",
              "      <td>20</td>\n",
              "      <td>climb_stairs</td>\n",
              "      <td>m</td>\n",
              "      <td>7</td>\n",
              "    </tr>\n",
              "    <tr>\n",
              "      <th>70084</th>\n",
              "      <td>22</td>\n",
              "      <td>45</td>\n",
              "      <td>39</td>\n",
              "      <td>2012</td>\n",
              "      <td>06</td>\n",
              "      <td>06</td>\n",
              "      <td>14</td>\n",
              "      <td>13</td>\n",
              "      <td>20</td>\n",
              "      <td>climb_stairs</td>\n",
              "      <td>m</td>\n",
              "      <td>7</td>\n",
              "    </tr>\n",
              "    <tr>\n",
              "      <th>70085</th>\n",
              "      <td>21</td>\n",
              "      <td>44</td>\n",
              "      <td>39</td>\n",
              "      <td>2012</td>\n",
              "      <td>06</td>\n",
              "      <td>06</td>\n",
              "      <td>14</td>\n",
              "      <td>13</td>\n",
              "      <td>20</td>\n",
              "      <td>climb_stairs</td>\n",
              "      <td>m</td>\n",
              "      <td>7</td>\n",
              "    </tr>\n",
              "    <tr>\n",
              "      <th>70086</th>\n",
              "      <td>19</td>\n",
              "      <td>44</td>\n",
              "      <td>39</td>\n",
              "      <td>2012</td>\n",
              "      <td>06</td>\n",
              "      <td>06</td>\n",
              "      <td>14</td>\n",
              "      <td>13</td>\n",
              "      <td>20</td>\n",
              "      <td>climb_stairs</td>\n",
              "      <td>m</td>\n",
              "      <td>7</td>\n",
              "    </tr>\n",
              "  </tbody>\n",
              "</table>\n",
              "<p>70087 rows × 12 columns</p>\n",
              "</div>\n",
              "      <button class=\"colab-df-convert\" onclick=\"convertToInteractive('df-a42a8dde-35ef-4952-9d60-d49e9136679b')\"\n",
              "              title=\"Convert this dataframe to an interactive table.\"\n",
              "              style=\"display:none;\">\n",
              "        \n",
              "  <svg xmlns=\"http://www.w3.org/2000/svg\" height=\"24px\"viewBox=\"0 0 24 24\"\n",
              "       width=\"24px\">\n",
              "    <path d=\"M0 0h24v24H0V0z\" fill=\"none\"/>\n",
              "    <path d=\"M18.56 5.44l.94 2.06.94-2.06 2.06-.94-2.06-.94-.94-2.06-.94 2.06-2.06.94zm-11 1L8.5 8.5l.94-2.06 2.06-.94-2.06-.94L8.5 2.5l-.94 2.06-2.06.94zm10 10l.94 2.06.94-2.06 2.06-.94-2.06-.94-.94-2.06-.94 2.06-2.06.94z\"/><path d=\"M17.41 7.96l-1.37-1.37c-.4-.4-.92-.59-1.43-.59-.52 0-1.04.2-1.43.59L10.3 9.45l-7.72 7.72c-.78.78-.78 2.05 0 2.83L4 21.41c.39.39.9.59 1.41.59.51 0 1.02-.2 1.41-.59l7.78-7.78 2.81-2.81c.8-.78.8-2.07 0-2.86zM5.41 20L4 18.59l7.72-7.72 1.47 1.35L5.41 20z\"/>\n",
              "  </svg>\n",
              "      </button>\n",
              "      \n",
              "  <style>\n",
              "    .colab-df-container {\n",
              "      display:flex;\n",
              "      flex-wrap:wrap;\n",
              "      gap: 12px;\n",
              "    }\n",
              "\n",
              "    .colab-df-convert {\n",
              "      background-color: #E8F0FE;\n",
              "      border: none;\n",
              "      border-radius: 50%;\n",
              "      cursor: pointer;\n",
              "      display: none;\n",
              "      fill: #1967D2;\n",
              "      height: 32px;\n",
              "      padding: 0 0 0 0;\n",
              "      width: 32px;\n",
              "    }\n",
              "\n",
              "    .colab-df-convert:hover {\n",
              "      background-color: #E2EBFA;\n",
              "      box-shadow: 0px 1px 2px rgba(60, 64, 67, 0.3), 0px 1px 3px 1px rgba(60, 64, 67, 0.15);\n",
              "      fill: #174EA6;\n",
              "    }\n",
              "\n",
              "    [theme=dark] .colab-df-convert {\n",
              "      background-color: #3B4455;\n",
              "      fill: #D2E3FC;\n",
              "    }\n",
              "\n",
              "    [theme=dark] .colab-df-convert:hover {\n",
              "      background-color: #434B5C;\n",
              "      box-shadow: 0px 1px 3px 1px rgba(0, 0, 0, 0.15);\n",
              "      filter: drop-shadow(0px 1px 2px rgba(0, 0, 0, 0.3));\n",
              "      fill: #FFFFFF;\n",
              "    }\n",
              "  </style>\n",
              "\n",
              "      <script>\n",
              "        const buttonEl =\n",
              "          document.querySelector('#df-a42a8dde-35ef-4952-9d60-d49e9136679b button.colab-df-convert');\n",
              "        buttonEl.style.display =\n",
              "          google.colab.kernel.accessAllowed ? 'block' : 'none';\n",
              "\n",
              "        async function convertToInteractive(key) {\n",
              "          const element = document.querySelector('#df-a42a8dde-35ef-4952-9d60-d49e9136679b');\n",
              "          const dataTable =\n",
              "            await google.colab.kernel.invokeFunction('convertToInteractive',\n",
              "                                                     [key], {});\n",
              "          if (!dataTable) return;\n",
              "\n",
              "          const docLinkHtml = 'Like what you see? Visit the ' +\n",
              "            '<a target=\"_blank\" href=https://colab.research.google.com/notebooks/data_table.ipynb>data table notebook</a>'\n",
              "            + ' to learn more about interactive tables.';\n",
              "          element.innerHTML = '';\n",
              "          dataTable['output_type'] = 'display_data';\n",
              "          await google.colab.output.renderOutput(dataTable, element);\n",
              "          const docLink = document.createElement('div');\n",
              "          docLink.innerHTML = docLinkHtml;\n",
              "          element.appendChild(docLink);\n",
              "        }\n",
              "      </script>\n",
              "    </div>\n",
              "  </div>\n",
              "  "
            ],
            "text/plain": [
              "        X   Y   Z   Ano  ... Segundos Tipo_movimento Genero Num_voluntario\n",
              "0      39  57  42  2011  ...       04    brush_teeth      m              2\n",
              "1      37  33  32  2011  ...       04    brush_teeth      m              2\n",
              "2      40  59  39  2011  ...       04    brush_teeth      m              2\n",
              "3      40  59  39  2011  ...       04    brush_teeth      m              2\n",
              "4      40  57  35  2011  ...       04    brush_teeth      m              2\n",
              "...    ..  ..  ..   ...  ...      ...            ...    ...            ...\n",
              "70082  18  44  38  2012  ...       20   climb_stairs      m              7\n",
              "70083  20  45  39  2012  ...       20   climb_stairs      m              7\n",
              "70084  22  45  39  2012  ...       20   climb_stairs      m              7\n",
              "70085  21  44  39  2012  ...       20   climb_stairs      m              7\n",
              "70086  19  44  39  2012  ...       20   climb_stairs      m              7\n",
              "\n",
              "[70087 rows x 12 columns]"
            ]
          },
          "metadata": {},
          "execution_count": 10
        }
      ]
    },
    {
      "cell_type": "code",
      "source": [
        "del nome_arquivos"
      ],
      "metadata": {
        "id": "Pqga2tWPW7Z7"
      },
      "execution_count": 6,
      "outputs": []
    },
    {
      "cell_type": "markdown",
      "source": [
        "**4 - Salvar o dataframe em um arquivo csv com o nome 'dados_coletados.csv'**"
      ],
      "metadata": {
        "id": "KlsSYxScSMH5"
      }
    },
    {
      "cell_type": "code",
      "source": [
        "df_all.to_csv('dados_coletados.csv', encoding='utf-8', index=False)"
      ],
      "metadata": {
        "id": "Nq-ZTa0ISr7V"
      },
      "execution_count": null,
      "outputs": []
    }
  ]
}